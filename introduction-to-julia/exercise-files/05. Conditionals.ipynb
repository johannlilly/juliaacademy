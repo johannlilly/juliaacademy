{
  "cells": [
    {
      "cell_type": "markdown",
      "source": [
        "# Conditionals\n",
        "\n",
        "#### with the `if` keyword\n",
        "In Julia, the syntax\n",
        "\n",
        "```julia\n",
        "if *condition 1*\n",
        "    *option 1*\n",
        "elseif *condition 2*\n",
        "    *option 2*\n",
        "else\n",
        "    *option 3*\n",
        "end\n",
        "```\n",
        "\n",
        "allows us to conditionally evaluate one of our options.\n",
        "<br><br>\n",
        "For example, we might want to implement the FizzBuzz test: given a number, N, print \"Fizz\" if N is divisible by 3, \"Buzz\" if N is divisible by 5, and \"FizzBuzz\" if N is divisible by 3 and 5. Otherwise just print the number itself! Enter your choice for `N` here:"
      ],
      "metadata": {
        "collapsed": true
      }
    },
    {
      "cell_type": "code",
      "source": [
        "N = 30"
      ],
      "outputs": [
        {
          "output_type": "execute_result",
          "execution_count": 15,
          "data": {
            "text/plain": "30"
          },
          "metadata": {}
        }
      ],
      "execution_count": 15,
      "metadata": {
        "execution": {
          "iopub.status.busy": "2021-05-26T20:16:41.256Z",
          "iopub.execute_input": "2021-05-26T20:16:41.261Z",
          "iopub.status.idle": "2021-05-26T20:16:41.274Z"
        }
      }
    },
    {
      "cell_type": "code",
      "source": [
        "if (N % 3 == 0) && (N % 5 == 0) # `&&` means \"AND\"; % computes the remainder after division\n",
        "    println(\"FizzBuzz\")\n",
        "elseif N % 3 == 0\n",
        "    println(\"Fizz\")\n",
        "elseif N % 5 == 0\n",
        "    println(\"Buzz\")\n",
        "else\n",
        "    println(N)\n",
        "end"
      ],
      "outputs": [
        {
          "output_type": "stream",
          "name": "stdout",
          "text": [
            "FizzBuzz\n"
          ]
        }
      ],
      "execution_count": 16,
      "metadata": {
        "execution": {
          "iopub.status.busy": "2021-05-26T20:16:41.884Z",
          "iopub.execute_input": "2021-05-26T20:16:41.891Z",
          "iopub.status.idle": "2021-05-26T20:16:41.901Z"
        }
      }
    },
    {
      "cell_type": "markdown",
      "source": [
        "#### with ternary operators\n",
        "\n",
        "For this last block, we could instead use the ternary operator with the syntax\n",
        "\n",
        "```julia\n",
        "a ? b : c\n",
        "```\n",
        "\n",
        "which equates to \n",
        "\n",
        "```julia\n",
        "if a\n",
        "    b\n",
        "else\n",
        "    c\n",
        "end\n",
        "```"
      ],
      "metadata": {}
    },
    {
      "cell_type": "markdown",
      "source": [
        "Now let's say we want to return the larger of two numbers. Give `x` and `y` values here:"
      ],
      "metadata": {}
    },
    {
      "cell_type": "code",
      "source": [
        "x = 3\n",
        "y = 90"
      ],
      "outputs": [
        {
          "output_type": "execute_result",
          "execution_count": 1,
          "data": {
            "text/plain": "90"
          },
          "metadata": {}
        }
      ],
      "execution_count": 1,
      "metadata": {
        "execution": {
          "iopub.status.busy": "2021-05-26T19:49:36.336Z",
          "iopub.execute_input": "2021-05-26T19:49:36.736Z",
          "iopub.status.idle": "2021-05-26T19:49:37.181Z"
        }
      }
    },
    {
      "cell_type": "markdown",
      "source": [
        "Using the `if` and `else` keywords, we might write:"
      ],
      "metadata": {}
    },
    {
      "cell_type": "code",
      "source": [
        "if x > y\n",
        "    x\n",
        "else\n",
        "    y\n",
        "end"
      ],
      "outputs": [
        {
          "output_type": "execute_result",
          "execution_count": 2,
          "data": {
            "text/plain": "90"
          },
          "metadata": {}
        }
      ],
      "execution_count": 2,
      "metadata": {
        "execution": {
          "iopub.status.busy": "2021-05-26T19:56:51.735Z",
          "iopub.execute_input": "2021-05-26T19:56:51.744Z",
          "iopub.status.idle": "2021-05-26T19:56:51.761Z"
        }
      }
    },
    {
      "cell_type": "markdown",
      "source": [
        "and as a ternary operator, the conditional looks like this:"
      ],
      "metadata": {}
    },
    {
      "cell_type": "code",
      "source": [
        "x > y ? x : y"
      ],
      "outputs": [
        {
          "output_type": "execute_result",
          "execution_count": 4,
          "data": {
            "text/plain": "90"
          },
          "metadata": {}
        }
      ],
      "execution_count": 4,
      "metadata": {
        "execution": {
          "iopub.status.busy": "2021-05-26T19:57:00.601Z",
          "iopub.execute_input": "2021-05-26T19:57:00.606Z",
          "iopub.status.idle": "2021-05-26T19:57:00.620Z"
        }
      }
    },
    {
      "cell_type": "markdown",
      "source": [
        "#### with short-circuit evaluation\n",
        "\n",
        "We've already seen expressions with the syntax\n",
        "```julia\n",
        "a && b\n",
        "```\n",
        "to return true if both `a` and `b` are true. Of course, if `a` is false, Julia doesn't even need to know the value of `b` in order to determine that the overall result will be false. So Julia doesn't even need to check what `b` is; it can just \"short-circuit\" and immediately return `false`.  The second argument `b` might be a more complicated expression like a function call with a side-effect, in which case it won't even be called:"
      ],
      "metadata": {}
    },
    {
      "cell_type": "code",
      "source": [
        "false && (println(\"hi\"); true)"
      ],
      "outputs": [
        {
          "output_type": "execute_result",
          "execution_count": 5,
          "data": {
            "text/plain": "false"
          },
          "metadata": {}
        }
      ],
      "execution_count": 5,
      "metadata": {
        "execution": {
          "iopub.status.busy": "2021-05-26T19:57:29.232Z",
          "iopub.execute_input": "2021-05-26T19:57:29.287Z",
          "iopub.status.idle": "2021-05-26T19:57:29.384Z"
        }
      }
    },
    {
      "cell_type": "code",
      "source": [
        "true && (println(\"hi\"); true)"
      ],
      "outputs": [
        {
          "output_type": "stream",
          "name": "stdout",
          "text": [
            "hi\n"
          ]
        },
        {
          "output_type": "execute_result",
          "execution_count": 10,
          "data": {
            "text/plain": "true"
          },
          "metadata": {}
        }
      ],
      "execution_count": 10,
      "metadata": {
        "execution": {
          "iopub.status.busy": "2021-05-26T20:15:59.088Z",
          "iopub.execute_input": "2021-05-26T20:15:59.095Z",
          "iopub.status.idle": "2021-05-26T20:15:59.110Z"
        }
      }
    },
    {
      "cell_type": "markdown",
      "source": [
        "On the other hand, if `a` is true, Julia knows it can just return the value of `b` as the overall expression. This means that `b` doesn't necessarily need evaluate to `true` or `false`!  `b` could even be an error:"
      ],
      "metadata": {}
    },
    {
      "cell_type": "code",
      "source": [
        "(x > 0) && error(\"x cannot be greater than 0\")"
      ],
      "outputs": [
        {
          "output_type": "error",
          "ename": "LoadError",
          "evalue": "\u001b[91mx cannot be greater than 0\u001b[39m",
          "traceback": [
            "\u001b[91mx cannot be greater than 0\u001b[39m",
            "",
            "Stacktrace:",
            " [1] error(::String) at .\\error.jl:33",
            " [2] top-level scope at In[7]:1",
            " [3] include_string(::Function, ::Module, ::String, ::String) at .\\loading.jl:1091"
          ]
        }
      ],
      "execution_count": 7,
      "metadata": {
        "execution": {
          "iopub.status.busy": "2021-05-26T19:57:50.762Z",
          "iopub.execute_input": "2021-05-26T19:57:50.767Z"
        }
      }
    },
    {
      "cell_type": "markdown",
      "source": [
        "Similarly, check out the `||` operator, which also uses short-circuit evaluation to perform the \"or\" operation."
      ],
      "metadata": {}
    },
    {
      "cell_type": "code",
      "source": [
        "true || println(\"hi\")"
      ],
      "outputs": [
        {
          "output_type": "execute_result",
          "execution_count": 8,
          "data": {
            "text/plain": "true"
          },
          "metadata": {}
        }
      ],
      "execution_count": 8,
      "metadata": {
        "execution": {
          "iopub.status.busy": "2021-05-26T20:15:44.410Z",
          "iopub.execute_input": "2021-05-26T20:15:44.421Z",
          "iopub.status.idle": "2021-05-26T20:15:44.433Z"
        }
      }
    },
    {
      "cell_type": "markdown",
      "source": [
        "and"
      ],
      "metadata": {}
    },
    {
      "cell_type": "code",
      "source": [
        "false || println(\"hi\")"
      ],
      "outputs": [
        {
          "output_type": "stream",
          "name": "stdout",
          "text": [
            "hi\n"
          ]
        }
      ],
      "execution_count": 9,
      "metadata": {
        "execution": {
          "iopub.status.busy": "2021-05-26T20:15:46.976Z",
          "iopub.execute_input": "2021-05-26T20:15:46.983Z",
          "iopub.status.idle": "2021-05-26T20:15:47.001Z"
        }
      }
    },
    {
      "cell_type": "markdown",
      "source": [
        "### Exercises\n",
        "\n",
        "#### 5.1 \n",
        "Write a conditional statement that prints a number if the number is even and the string \"odd\" if the number is odd."
      ],
      "metadata": {
        "collapsed": true
      }
    },
    {
      "cell_type": "code",
      "source": [
        "if 10%2==0\n",
        "  \"even\"\n",
        "else\n",
        "  \"odd\"\n",
        "end"
      ],
      "outputs": [
        {
          "output_type": "execute_result",
          "execution_count": 23,
          "data": {
            "text/plain": "\"even\""
          },
          "metadata": {}
        }
      ],
      "execution_count": 23,
      "metadata": {
        "execution": {
          "iopub.status.busy": "2021-05-26T20:28:43.259Z",
          "iopub.execute_input": "2021-05-26T20:28:43.265Z",
          "iopub.status.idle": "2021-05-26T20:28:43.274Z"
        }
      }
    },
    {
      "cell_type": "markdown",
      "source": [
        "#### 5.2 \n",
        "Rewrite the code from 5.1 using a ternary operator."
      ],
      "metadata": {}
    },
    {
      "cell_type": "code",
      "source": [
        "10 % 2 == 0 ? \"even\" : \"odd\""
      ],
      "outputs": [
        {
          "output_type": "execute_result",
          "execution_count": 24,
          "data": {
            "text/plain": "\"even\""
          },
          "metadata": {}
        }
      ],
      "execution_count": 24,
      "metadata": {
        "execution": {
          "iopub.status.busy": "2021-05-26T20:28:46.186Z",
          "iopub.execute_input": "2021-05-26T20:28:46.191Z",
          "iopub.status.idle": "2021-05-26T20:28:46.201Z"
        }
      }
    }
  ],
  "metadata": {
    "kernelspec": {
      "display_name": "Julia 1.0.0",
      "language": "julia",
      "name": "julia-1.0"
    },
    "language_info": {
      "file_extension": ".jl",
      "name": "julia",
      "mimetype": "application/julia",
      "version": "1.5.4"
    },
    "nteract": {
      "version": "0.28.0"
    }
  },
  "nbformat": 4,
  "nbformat_minor": 2
}