{
  "cells": [
    {
      "cell_type": "markdown",
      "source": [
        "# Strings\n",
        "\n",
        "Topics:\n",
        "1. How to get a string\n",
        "2. String interpolation\n",
        "3. String concatenation"
      ],
      "metadata": {
        "collapsed": true
      }
    },
    {
      "cell_type": "markdown",
      "source": [
        "## How to get a string\n",
        "\n",
        "Enclose your characters in \" \" or \"\"\" \"\"\"!"
      ],
      "metadata": {}
    },
    {
      "cell_type": "code",
      "source": [
        "s1 = \"I am a string.\""
      ],
      "outputs": [
        {
          "output_type": "execute_result",
          "execution_count": 2,
          "data": {
            "text/plain": "\"I am a string.\""
          },
          "metadata": {}
        }
      ],
      "execution_count": 2,
      "metadata": {
        "execution": {
          "iopub.status.busy": "2021-05-24T20:41:54.152Z",
          "iopub.execute_input": "2021-05-24T20:41:54.160Z",
          "iopub.status.idle": "2021-05-24T20:41:54.176Z"
        }
      }
    },
    {
      "cell_type": "code",
      "source": [
        "s2 = \"\"\"I am also a string. \"\"\""
      ],
      "outputs": [
        {
          "output_type": "execute_result",
          "execution_count": 3,
          "data": {
            "text/plain": "\"I am also a string. \""
          },
          "metadata": {}
        }
      ],
      "execution_count": 3,
      "metadata": {
        "execution": {
          "iopub.status.busy": "2021-05-24T20:41:55.176Z",
          "iopub.execute_input": "2021-05-24T20:41:55.184Z",
          "iopub.status.idle": "2021-05-24T20:41:55.197Z"
        }
      }
    },
    {
      "cell_type": "markdown",
      "source": [
        "There are a couple functional differences between strings enclosed in single and triple quotes. <br>\n",
        "One difference is that, in the latter case, you can use quotation marks within your string."
      ],
      "metadata": {}
    },
    {
      "cell_type": "code",
      "source": [
        "\"Here, we get an \"error\" because it's ambiguous where this string ends \""
      ],
      "outputs": [
        {
          "output_type": "error",
          "ename": "LoadError",
          "evalue": "\u001b[91msyntax: cannot juxtapose string literal\u001b[39m",
          "traceback": [
            "\u001b[91msyntax: cannot juxtapose string literal\u001b[39m",
            "",
            "Stacktrace:",
            " [1] top-level scope at In[4]:1",
            " [2] include_string(::Function, ::Module, ::String, ::String) at .\\loading.jl:1091"
          ]
        }
      ],
      "execution_count": 4,
      "metadata": {
        "execution": {
          "iopub.status.busy": "2021-05-24T20:42:04.403Z",
          "iopub.execute_input": "2021-05-24T20:42:04.412Z"
        }
      }
    },
    {
      "cell_type": "code",
      "source": [
        "\"\"\"Look, Mom, no \"errors\"!!! \"\"\""
      ],
      "outputs": [
        {
          "output_type": "execute_result",
          "execution_count": 5,
          "data": {
            "text/plain": "\"Look, Mom, no \\\"errors\\\"!!! \""
          },
          "metadata": {}
        }
      ],
      "execution_count": 5,
      "metadata": {
        "execution": {
          "iopub.status.busy": "2021-05-24T20:42:07.290Z",
          "iopub.execute_input": "2021-05-24T20:42:07.298Z",
          "iopub.status.idle": "2021-05-24T20:42:07.314Z"
        }
      }
    },
    {
      "cell_type": "markdown",
      "source": [
        "Note that ' ' define a character, but NOT a string!"
      ],
      "metadata": {}
    },
    {
      "cell_type": "code",
      "source": [
        "typeof('a')"
      ],
      "outputs": [
        {
          "output_type": "execute_result",
          "execution_count": 6,
          "data": {
            "text/plain": "Char"
          },
          "metadata": {}
        }
      ],
      "execution_count": 6,
      "metadata": {
        "execution": {
          "iopub.status.busy": "2021-05-24T20:42:17.649Z",
          "iopub.execute_input": "2021-05-24T20:42:17.662Z",
          "iopub.status.idle": "2021-05-24T20:42:17.827Z"
        }
      }
    },
    {
      "cell_type": "code",
      "source": [
        "'We will get an error here'"
      ],
      "outputs": [
        {
          "output_type": "error",
          "ename": "LoadError",
          "evalue": "\u001b[91msyntax: character literal contains multiple characters\u001b[39m",
          "traceback": [
            "\u001b[91msyntax: character literal contains multiple characters\u001b[39m",
            "",
            "Stacktrace:",
            " [1] top-level scope at In[7]:1",
            " [2] include_string(::Function, ::Module, ::String, ::String) at .\\loading.jl:1091"
          ]
        }
      ],
      "execution_count": 7,
      "metadata": {
        "execution": {
          "iopub.status.busy": "2021-05-24T20:42:20.272Z",
          "iopub.execute_input": "2021-05-24T20:42:20.281Z"
        }
      }
    },
    {
      "cell_type": "markdown",
      "source": [
        "## String interpolation\n",
        "\n",
        "We can use the $ sign to insert existing variables into a string and to evaluate expressions within a string. <br>\n",
        "Below is an example that contains some highly sensitive personal information."
      ],
      "metadata": {}
    },
    {
      "cell_type": "code",
      "source": [
        "name = \"Jane\"\n",
        "num_fingers = 10\n",
        "num_toes = 10"
      ],
      "outputs": [
        {
          "output_type": "execute_result",
          "execution_count": 8,
          "data": {
            "text/plain": "10"
          },
          "metadata": {}
        }
      ],
      "execution_count": 8,
      "metadata": {
        "execution": {
          "iopub.status.busy": "2021-05-24T20:43:54.877Z",
          "iopub.execute_input": "2021-05-24T20:43:54.888Z",
          "iopub.status.idle": "2021-05-24T20:43:55.014Z"
        }
      }
    },
    {
      "cell_type": "code",
      "source": [
        "println(\"Hello, my name is $name.\")\n",
        "println(\"I have $num_fingers fingers and $num_toes toes.\")"
      ],
      "outputs": [
        {
          "output_type": "stream",
          "name": "stdout",
          "text": [
            "Hello, my name is Jane.\n",
            "I have 10 fingers and 10 toes.\n"
          ]
        }
      ],
      "execution_count": 9,
      "metadata": {
        "execution": {
          "iopub.status.busy": "2021-05-24T20:43:58.511Z",
          "iopub.execute_input": "2021-05-24T20:43:58.520Z",
          "iopub.status.idle": "2021-05-24T20:43:58.587Z"
        }
      }
    },
    {
      "cell_type": "code",
      "source": [
        " println(\"That is $(num_fingers + num_toes) digits in all!!\")"
      ],
      "outputs": [
        {
          "output_type": "stream",
          "name": "stdout",
          "text": [
            "That is 20 digits in all!!\n"
          ]
        }
      ],
      "execution_count": 10,
      "metadata": {
        "execution": {
          "iopub.status.busy": "2021-05-24T20:44:20.509Z",
          "iopub.execute_input": "2021-05-24T20:44:20.517Z",
          "iopub.status.idle": "2021-05-24T20:44:20.532Z"
        }
      }
    },
    {
      "cell_type": "markdown",
      "source": [
        "## String concatenation\n",
        "\n",
        "Below are three ways we can concatenate strings! <br><br>\n",
        "The first way is to use the `string()` function. <br>\n",
        "`string()` converts non-string inputs to strings."
      ],
      "metadata": {}
    },
    {
      "cell_type": "code",
      "source": [
        "s3 = \"How many cats \";\n",
        "s4 = \"is too many cats?\";\n",
        "😺 = 10"
      ],
      "outputs": [
        {
          "output_type": "execute_result",
          "execution_count": 12,
          "data": {
            "text/plain": "10"
          },
          "metadata": {}
        }
      ],
      "execution_count": 12,
      "metadata": {
        "execution": {
          "iopub.status.busy": "2021-05-24T20:44:47.905Z",
          "iopub.execute_input": "2021-05-24T20:44:47.912Z",
          "iopub.status.idle": "2021-05-24T20:44:47.926Z"
        }
      }
    },
    {
      "cell_type": "code",
      "source": [
        "string(s3, s4)"
      ],
      "outputs": [
        {
          "output_type": "execute_result",
          "execution_count": 13,
          "data": {
            "text/plain": "\"How many cats is too many cats?\""
          },
          "metadata": {}
        }
      ],
      "execution_count": 13,
      "metadata": {
        "execution": {
          "iopub.status.busy": "2021-05-24T20:44:49.100Z",
          "iopub.execute_input": "2021-05-24T20:44:49.111Z",
          "iopub.status.idle": "2021-05-24T20:44:49.128Z"
        }
      }
    },
    {
      "cell_type": "code",
      "source": [
        "string(\"I don't know, but \", 😺, \" is too few.\")"
      ],
      "outputs": [
        {
          "output_type": "execute_result",
          "execution_count": 14,
          "data": {
            "text/plain": "\"I don't know, but 10 is too few.\""
          },
          "metadata": {}
        }
      ],
      "execution_count": 14,
      "metadata": {
        "execution": {
          "iopub.status.busy": "2021-05-24T20:44:52.258Z",
          "iopub.execute_input": "2021-05-24T20:44:52.264Z",
          "iopub.status.idle": "2021-05-24T20:44:52.275Z"
        }
      }
    },
    {
      "cell_type": "markdown",
      "source": [
        "We can also use `*` for concatenation!"
      ],
      "metadata": {}
    },
    {
      "cell_type": "code",
      "source": [
        "s3*s4"
      ],
      "outputs": [
        {
          "output_type": "execute_result",
          "execution_count": 15,
          "data": {
            "text/plain": "\"How many cats is too many cats?\""
          },
          "metadata": {}
        }
      ],
      "execution_count": 15,
      "metadata": {
        "execution": {
          "iopub.status.busy": "2021-05-24T20:45:09.083Z",
          "iopub.execute_input": "2021-05-24T20:45:09.095Z",
          "iopub.status.idle": "2021-05-24T20:45:09.110Z"
        }
      }
    },
    {
      "cell_type": "markdown",
      "source": [
        "### Exercises\n",
        "\n",
        "#### 2.1 \n",
        "Create a string that says \"hi\" 1000 times, first with `repeat` and then with the exponentiation operator, which can call `*` under the hood. Assign it the variable `hi` below."
      ],
      "metadata": {}
    },
    {
      "cell_type": "code",
      "source": [
        "hi = \"hi\"\n",
        "\n",
        "hi = repeat(hi, 1000)\n",
        "\n",
        "# hi^1000"
      ],
      "outputs": [
        {
          "output_type": "execute_result",
          "execution_count": 21,
          "data": {
            "text/plain": "\"hihihihihihihihihihihihihihihihihihihihihihihihihihihihihihihihihihihihihihihihihihihihihihihihihihihihihihihihihihihihihihihihihihihihihihihihihihihihihihihihihihihihihihihihihihihihihihihihihihihihihihihihihihihihihihihihihihihihihihihihihihihihihihihihihihihihihihihihihihihihihihihihihihihihihihihihihihihihihihihihihihihihihihihihihihihihihihihihihihihihihihihihihihihihihihihihihihihihihihihihihihihihihihihihihihihihihihihihihihihihihihihihihihihihihihihihihihihihihihihihihihihihihihihihihihihihihihihihihihihihihihihihihihihihihihihihihihihihihihihihihihihihihihihihihihihihihihihihihihihihihihihihihihihihihihihihihihihihihihihihihihihihihihihihihihihihihihihihihihihihihihihihihihihihihihihihihihihihihihihihihihihihihihihihihihihihihihihihihihihihihihihihihihihihihihihihihihihihihihihihihihihihihihihihihihihihihihihihihihihihihihihihihihihihihihihihihihihihihihihihihihihihihihihihihihihihihihihihihihihihihihihihihihihihihihihihihihihihihihihihihihihihihihihihihihihihihihihihihihihihihihihihihihihihihihihihihihihihihihihihihihihihihihihihihihihihihihihihihihihihihihihihihihihihihihihihihihihihihihihihihihihihihihihihihihihihihihihihihihihihihihihihihihihihihihihihihihihihihihihihihihihihihihihihihihihihihihihihihihihihihihihihihihihihihihihihihihihihihihihihihihihihihihihihihihihihihihihihihihihihihihihihihihihihihihihihihihihihihihihihihihihihihihihihihihihihihihihihihihihihihihihihihihihihihihihihihihihihihihihihihihihihihihihihihihihihihihihihihihihihihihihihihihihihihihihihihihihihihihihihihihihihihihihihihihihihihihihihihihihihihihihihihihihihihihihihihihihihihihihihihihihihihihihihihihihihihihihihihihihihihihihihihihihihihihihihihihihihihihihihihihihihihihihihihihihihihihihihihihihihihihihihihihihihihihihihihihihihihihihihihihihihihihihihihihihihihihihihihihihihihihihihihihihihihihihihihihihihihihihihihihihihihihihihihihihihihihihihihihihihihihihihihihihihihihihihihihihihihihihihihihihihihihihihihihihihihihihihihihihihihihihihihihihihihihihihihihihihihihihihi\""
          },
          "metadata": {}
        }
      ],
      "execution_count": 21,
      "metadata": {
        "deletable": false,
        "nbgrader": {
          "checksum": "2046f6f9c3d290e2d63b4c261629d27d",
          "grade": false,
          "grade_id": "cell-5b38bdb1115161b4",
          "locked": false,
          "schema_version": 1,
          "solution": true
        },
        "execution": {
          "iopub.status.busy": "2021-05-24T20:47:19.032Z",
          "iopub.execute_input": "2021-05-24T20:47:19.038Z",
          "iopub.status.idle": "2021-05-24T20:47:19.050Z"
        }
      }
    },
    {
      "cell_type": "code",
      "source": [
        "@assert hi == \"hihihihihihihihihihihihihihihihihihihihihihihihihihihihihihihihihihihihihihihihihihihihihihihihihihihihihihihihihihihihihihihihihihihihihihihihihihihihihihihihihihihihihihihihihihihihihihihihihihihihihihihihihihihihihihihihihihihihihihihihihihihihihihihihihihihihihihihihihihihihihihihihihihihihihihihihihihihihihihihihihihihihihihihihihihihihihihihihihihihihihihihihihihihihihihihihihihihihihihihihihihihihihihihihihihihihihihihihihihihihihihihihihihihihihihihihihihihihihihihihihihihihihihihihihihihihihihihihihihihihihihihihihihihihihihihihihihihihihihihihihihihihihihihihihihihihihihihihihihihihihihihihihihihihihihihihihihihihihihihihihihihihihihihihihihihihihihihihihihihihihihihihihihihihihihihihihihihihihihihihihihihihihihihihihihihihihihihihihihihihihihihihihihihihihihihihihihihihihihihihihihihihihihihihihihihihihihihihihihihihihihihihihihihihihihihihihihihihihihihihihihihihihihihihihihihihihihihihihihihihihihihihihihihihihihihihihihihihihihihihihihihihihihihihihihihihihihihihihihihihihihihihihihihihihihihihihihihihihihihihihihihihihihihihihihihihihihihihihihihihihihihihihihihihihihihihihihihihihihihihihihihihihihihihihihihihihihihihihihihihihihihihihihihihihihihihihihihihihihihihihihihihihihihihihihihihihihihihihihihihihihihihihihihihihihihihihihihihihihihihihihihihihihihihihihihihihihihihihihihihihihihihihihihihihihihihihihihihihihihihihihihihihihihihihihihihihihihihihihihihihihihihihihihihihihihihihihihihihihihihihihihihihihihihihihihihihihihihihihihihihihihihihihihihihihihihihihihihihihihihihihihihihihihihihihihihihihihihihihihihihihihihihihihihihihihihihihihihihihihihihihihihihihihihihihihihihihihihihihihihihihihihihihihihihihihihihihihihihihihihihihihihihihihihihihihihihihihihihihihihihihihihihihihihihihihihihihihihihihihihihihihihihihihihihihihihihihihihihihihihihihihihihihihihihihihihihihihihihihihihihihihihihihihihihihihihihihihihihihihihihihihihihihihihihihihihihihihihihihihihihihihihihihihihihihihihihihihihihihihihihihihihihihihihihihihihihihihihihihihihi\""
      ],
      "outputs": [],
      "execution_count": 22,
      "metadata": {
        "deletable": false,
        "editable": false,
        "hide_input": true,
        "nbgrader": {
          "checksum": "8b3cc1d8a062b67271109b980793144e",
          "grade": true,
          "grade_id": "cell-20b1027a968fbb48",
          "locked": true,
          "points": 1,
          "schema_version": 1,
          "solution": false
        },
        "execution": {
          "iopub.status.busy": "2021-05-24T20:47:19.996Z",
          "iopub.execute_input": "2021-05-24T20:47:20.002Z",
          "iopub.status.idle": "2021-05-24T20:47:20.011Z"
        }
      }
    },
    {
      "cell_type": "markdown",
      "source": [
        "#### 2.2 \n",
        "Declare two variables\n",
        "\n",
        "```julia\n",
        "a = 3\n",
        "b = 4\n",
        "```\n",
        "and use them to create two strings:\n",
        "```julia\n",
        "\"3 + 4\"\n",
        "\"7\" \n",
        "```\n",
        "and store the results in `c` and `d` respectively"
      ],
      "metadata": {}
    },
    {
      "cell_type": "code",
      "source": [
        "a = 3\n",
        "b = 4\n",
        "\n",
        "c = \"$a + $b\"\n",
        "d = \"$(a+b)\""
      ],
      "outputs": [
        {
          "output_type": "execute_result",
          "execution_count": 24,
          "data": {
            "text/plain": "\"7\""
          },
          "metadata": {}
        }
      ],
      "execution_count": 24,
      "metadata": {
        "deletable": false,
        "nbgrader": {
          "checksum": "fad4e601d321aac4b6a1ea9b4e859309",
          "grade": false,
          "grade_id": "cell-36beb524c8ecd33b",
          "locked": false,
          "schema_version": 1,
          "solution": true
        },
        "execution": {
          "iopub.status.busy": "2021-05-24T20:48:12.763Z",
          "iopub.execute_input": "2021-05-24T20:48:12.768Z",
          "iopub.status.idle": "2021-05-24T20:48:12.780Z"
        }
      }
    },
    {
      "cell_type": "code",
      "source": [
        "@assert c == \"3 + 4\"\n",
        "@assert d == \"7\""
      ],
      "outputs": [],
      "execution_count": 25,
      "metadata": {
        "deletable": false,
        "editable": false,
        "hide_input": true,
        "nbgrader": {
          "checksum": "191b413e8c273e1d2c6423d090ce6f0f",
          "grade": true,
          "grade_id": "cell-14c3c5b015a97892",
          "locked": true,
          "points": 1,
          "schema_version": 1,
          "solution": false
        },
        "execution": {
          "iopub.status.busy": "2021-05-24T20:48:13.675Z",
          "iopub.execute_input": "2021-05-24T20:48:13.682Z",
          "iopub.status.idle": "2021-05-24T20:48:13.691Z"
        }
      }
    },
    {
      "cell_type": "markdown",
      "source": [
        "Please click on `Validate` on the top, once you are done with the exercises."
      ],
      "metadata": {}
    }
  ],
  "metadata": {
    "kernelspec": {
      "display_name": "Julia 1.0.0",
      "language": "julia",
      "name": "julia-1.0"
    },
    "language_info": {
      "file_extension": ".jl",
      "name": "julia",
      "mimetype": "application/julia",
      "version": "1.5.4"
    },
    "nteract": {
      "version": "0.28.0"
    }
  },
  "nbformat": 4,
  "nbformat_minor": 2
}