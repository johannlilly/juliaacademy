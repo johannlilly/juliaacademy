{
   "cell_type": "code",
  "cells": [
    {
      "cell_type": "markdown",
      "source": [
        "# Functions\n",
        "\n",
        "Topics:\n",
        "1. How to declare a function\n",
        "2. Duck-typing in Julia\n",
        "3. Mutating vs. non-mutating functions\n",
        "4. Some higher order functions"
      ],
      "metadata": {}
    },
    {
      "cell_type": "markdown",
      "source": [
        "## How to declare a function\n",
        "Julia gives us a few different ways to write a function. The first requires the `function` and `end` keywords"
      ],
      "metadata": {}
    },
    {
      "cell_type": "code",
      "source": [
        "function sayhi(name)\n",
        "    println(\"Hi $name, it's great to see you!\")\n",
        "end"
      ],
      "outputs": [
        {
          "output_type": "execute_result",
          "execution_count": 3,
          "data": {
            "text/plain": "sayhi (generic function with 1 method)"
          },
          "metadata": {}
        }
      ],
      "execution_count": 3,
      "metadata": {
        "execution": {
          "iopub.status.busy": "2021-05-26T20:43:37.773Z",
          "iopub.execute_input": "2021-05-26T20:43:37.789Z",
          "iopub.status.idle": "2021-05-26T20:43:37.815Z"
        }
      }
    },
    {
      "cell_type": "code",
      "source": [
        "function f(x)\n",
        "    x^2\n",
        "end"
      ],
      "outputs": [
        {
          "output_type": "execute_result",
          "execution_count": 2,
          "data": {
            "text/plain": "f (generic function with 1 method)"
          },
          "metadata": {}
        }
      ],
      "execution_count": 2,
      "metadata": {
        "execution": {
          "iopub.status.busy": "2021-05-26T20:43:36.563Z",
          "iopub.execute_input": "2021-05-26T20:43:36.576Z",
          "iopub.status.idle": "2021-05-26T20:43:36.616Z"
        }
      }
    },
    {
      "cell_type": "markdown",
      "source": [
        "We can call either of these functions like this:"
      ],
      "metadata": {}
    },
    {
      "cell_type": "code",
      "source": [
        "sayhi(\"C-3PO\")"
      ],
      "outputs": [
        {
          "output_type": "stream",
          "name": "stdout",
          "text": [
            "Hi C-3PO, it's great to see you!\n"
          ]
        }
      ],
      "execution_count": 4,
      "metadata": {
        "execution": {
          "iopub.status.busy": "2021-05-26T20:43:49.793Z",
          "iopub.execute_input": "2021-05-26T20:43:49.811Z",
          "iopub.status.idle": "2021-05-26T20:43:49.897Z"
        }
      }
    },
    {
      "cell_type": "code",
      "source": [
        "f(42)"
      ],
      "outputs": [
        {
          "output_type": "execute_result",
          "execution_count": 5,
          "data": {
            "text/plain": "1764"
          },
          "metadata": {}
        }
      ],
      "execution_count": 5,
      "metadata": {
        "execution": {
          "iopub.status.busy": "2021-05-26T20:43:50.830Z",
          "iopub.execute_input": "2021-05-26T20:43:50.845Z",
          "iopub.status.idle": "2021-05-26T20:43:50.960Z"
        }
      }
    },
    {
      "cell_type": "markdown",
      "source": [
        "Alternatively, we could have declared either of these functions in a single line"
      ],
      "metadata": {}
    },
    {
      "cell_type": "code",
      "source": [
        "sayhi2(name) = println(\"Hi $name, it's great to see you!\")"
      ],
      "outputs": [],
      "execution_count": null,
      "metadata": {}
    },
    {
      "cell_type": "code",
      "source": [
        "f2(x) = x^2"
      ],
      "outputs": [],
      "execution_count": null,
      "metadata": {}
    },
    {
      "cell_type": "code",
      "source": [
        "sayhi2(\"R2D2\")"
      ],
      "outputs": [],
      "execution_count": null,
      "metadata": {}
    },
    {
      "cell_type": "code",
      "source": [
        "f2(42)"
      ],
      "outputs": [],
      "execution_count": null,
      "metadata": {}
    },
    {
      "cell_type": "markdown",
      "source": [
        "Finally, we could have declared these as \"anonymous\" functions"
      ],
      "metadata": {}
    },
    {
      "cell_type": "code",
      "source": [
        "sayhi3 = name -> println(\"Hi $name, it's great to see you!\")"
      ],
      "outputs": [
        {
          "output_type": "execute_result",
          "execution_count": 6,
          "data": {
            "text/plain": "#3 (generic function with 1 method)"
          },
          "metadata": {}
        }
      ],
      "execution_count": 6,
      "metadata": {
        "execution": {
          "iopub.status.busy": "2021-05-26T20:46:56.629Z",
          "iopub.execute_input": "2021-05-26T20:46:56.648Z",
          "iopub.status.idle": "2021-05-26T20:46:56.710Z"
        }
      }
    },
    {
      "cell_type": "code",
      "source": [
        "f3 = x -> x^2"
      ],
      "outputs": [
        {
          "output_type": "execute_result",
          "execution_count": 7,
          "data": {
            "text/plain": "#5 (generic function with 1 method)"
          },
          "metadata": {}
        }
      ],
      "execution_count": 7,
      "metadata": {
        "execution": {
          "iopub.status.busy": "2021-05-26T20:46:57.798Z",
          "iopub.execute_input": "2021-05-26T20:46:57.812Z",
          "iopub.status.idle": "2021-05-26T20:46:57.854Z"
        }
      }
    },
    {
      "cell_type": "code",
      "source": [
        "sayhi3(\"Chewbacca\")"
      ],
      "outputs": [
        {
          "output_type": "stream",
          "name": "stdout",
          "text": [
            "Hi Chewbacca, it's great to see you!\n"
          ]
        }
      ],
      "execution_count": 8,
      "metadata": {
        "execution": {
          "iopub.status.busy": "2021-05-26T20:48:07.019Z",
          "iopub.execute_input": "2021-05-26T20:48:07.032Z",
          "iopub.status.idle": "2021-05-26T20:48:07.057Z"
        }
      }
    },
    {
      "cell_type": "code",
      "source": [
        "f3(42)"
      ],
      "outputs": [
        {
          "output_type": "execute_result",
          "execution_count": 9,
          "data": {
            "text/plain": "1764"
          },
          "metadata": {}
        }
      ],
      "execution_count": 9,
      "metadata": {
        "execution": {
          "iopub.status.busy": "2021-05-26T20:48:07.867Z",
          "iopub.execute_input": "2021-05-26T20:48:07.880Z",
          "iopub.status.idle": "2021-05-26T20:48:07.905Z"
        }
      }
    },
    {
      "cell_type": "markdown",
      "source": [
        "## Duck-typing in Julia\n",
        "*\"If it quacks like a duck, it's a duck.\"* <br><br>\n",
        "Julia functions will just work on whatever inputs make sense. <br><br>\n",
        "For example, `sayhi` works on the name of this minor tv character, written as an integer..."
      ],
      "metadata": {}
    },
    {
      "cell_type": "code",
      "source": [
        "sayhi(55595472)"
      ],
      "outputs": [
        {
          "output_type": "stream",
          "name": "stdout",
          "text": [
            "Hi 55595472, it's great to see you!\n"
          ]
        }
      ],
      "execution_count": 13,
      "metadata": {
        "execution": {
          "iopub.status.busy": "2021-05-26T21:06:14.575Z",
          "iopub.execute_input": "2021-05-26T21:06:14.586Z",
          "iopub.status.idle": "2021-05-26T21:06:14.609Z"
        }
      }
    },
    {
      "cell_type": "markdown",
      "source": [
        "And `f` will work on a matrix. "
      ],
      "metadata": {}
    },
    {
      "cell_type": "code",
      "source": [
        "A = rand(3, 3)\n",
        "A"
      ],
      "outputs": [
        {
          "output_type": "execute_result",
          "execution_count": 11,
          "data": {
            "text/plain": "3×3 Array{Float64,2}:\n 0.605761   0.461066   0.605301\n 0.381813   0.0882238  0.66921\n 0.0688605  0.0380225  0.942272"
          },
          "metadata": {}
        }
      ],
      "execution_count": 11,
      "metadata": {
        "execution": {
          "iopub.status.busy": "2021-05-26T21:06:11.370Z",
          "iopub.execute_input": "2021-05-26T21:06:11.383Z",
          "iopub.status.idle": "2021-05-26T21:06:12.157Z"
        }
      }
    },
    {
      "cell_type": "code",
      "source": [
        "f(A)"
      ],
      "outputs": [
        {
          "output_type": "execute_result",
          "execution_count": 12,
          "data": {
            "text/plain": "3×3 Array{Float64,2}:\n 0.584669  0.342988   1.24558\n 0.311054  0.209269   0.92073\n 0.121116  0.0709313  0.955004"
          },
          "metadata": {}
        }
      ],
      "execution_count": 12,
      "metadata": {
        "execution": {
          "iopub.status.busy": "2021-05-26T21:06:13.008Z",
          "iopub.execute_input": "2021-05-26T21:06:13.020Z",
          "iopub.status.idle": "2021-05-26T21:06:13.757Z"
        }
      }
    },
    {
      "cell_type": "markdown",
      "source": [
        "`f` will also work on a string like \"hi\" because `*` is defined for string inputs as string concatenation."
      ],
      "metadata": {}
    },
    {
      "cell_type": "code",
      "source": [
        "f(\"hi\")"
      ],
      "outputs": [
        {
          "output_type": "execute_result",
          "execution_count": 14,
          "data": {
            "text/plain": "\"hihi\""
          },
          "metadata": {}
        }
      ],
      "execution_count": 14,
      "metadata": {
        "execution": {
          "iopub.status.busy": "2021-05-26T21:06:27.353Z",
          "iopub.execute_input": "2021-05-26T21:06:27.367Z",
          "iopub.status.idle": "2021-05-26T21:06:27.543Z"
        }
      }
    },
    {
      "cell_type": "markdown",
      "source": [
        "On the other hand, `f` will not work on a vector. Unlike `A^2`, which is well-defined, the meaning of `v^2` for a vector, `v`, is not a well-defined algebraic operation. "
      ],
      "metadata": {}
    },
    {
      "cell_type": "code",
      "source": [
        "v = rand(3)"
      ],
      "outputs": [
        {
          "output_type": "execute_result",
          "execution_count": 15,
          "data": {
            "text/plain": "3-element Array{Float64,1}:\n 0.07095868735570066\n 0.32896765407585615\n 0.9001343925919993"
          },
          "metadata": {}
        }
      ],
      "execution_count": 15,
      "metadata": {
        "execution": {
          "iopub.status.busy": "2021-05-26T21:08:02.071Z",
          "iopub.execute_input": "2021-05-26T21:08:02.084Z",
          "iopub.status.idle": "2021-05-26T21:08:02.732Z"
        }
      }
    },
    {
      "cell_type": "code",
      "source": [
        "f(v)"
      ],
      "outputs": [
        {
          "output_type": "error",
          "ename": "LoadError",
          "evalue": "\u001b[91mMethodError: no method matching ^(::Array{Float64,1}, ::Int64)\u001b[39m\n\u001b[91m\u001b[0mClosest candidates are:\u001b[39m\n\u001b[91m\u001b[0m  ^(\u001b[91m::Missing\u001b[39m, ::Integer) at missing.jl:155\u001b[39m\n\u001b[91m\u001b[0m  ^(\u001b[91m::Missing\u001b[39m, ::Number) at missing.jl:115\u001b[39m\n\u001b[91m\u001b[0m  ^(\u001b[91m::BigInt\u001b[39m, ::Integer) at gmp.jl:602\u001b[39m\n\u001b[91m\u001b[0m  ...\u001b[39m",
          "traceback": [
            "\u001b[91mMethodError: no method matching ^(::Array{Float64,1}, ::Int64)\u001b[39m\n\u001b[91m\u001b[0mClosest candidates are:\u001b[39m\n\u001b[91m\u001b[0m  ^(\u001b[91m::Missing\u001b[39m, ::Integer) at missing.jl:155\u001b[39m\n\u001b[91m\u001b[0m  ^(\u001b[91m::Missing\u001b[39m, ::Number) at missing.jl:115\u001b[39m\n\u001b[91m\u001b[0m  ^(\u001b[91m::BigInt\u001b[39m, ::Integer) at gmp.jl:602\u001b[39m\n\u001b[91m\u001b[0m  ...\u001b[39m",
            "",
            "Stacktrace:",
            " [1] macro expansion at .\\none:0 [inlined]",
            " [2] literal_pow at .\\none:0 [inlined]",
            " [3] f(::Array{Float64,1}) at .\\In[2]:2",
            " [4] top-level scope at In[16]:1",
            " [5] include_string(::Function, ::Module, ::String, ::String) at .\\loading.jl:1091"
          ]
        }
      ],
      "execution_count": 16,
      "metadata": {
        "execution": {
          "iopub.status.busy": "2021-05-26T21:08:11.790Z",
          "iopub.execute_input": "2021-05-26T21:08:11.804Z"
        }
      }
    },
    {
      "cell_type": "markdown",
      "source": [
        "## Mutating vs. non-mutating functions\n",
        "\n",
        "By convention, functions followed by `!` alter their contents and functions lacking `!` do not.\n",
        "\n",
        "For example, let's look at the difference between `sort` and `sort!`.\n"
      ],
      "metadata": {
        "collapsed": true
      }
    },
    {
      "cell_type": "code",
      "source": [
        "v = [3, 5, 2]"
      ],
      "outputs": [
        {
          "output_type": "execute_result",
          "execution_count": 20,
          "data": {
            "text/plain": "3-element Array{Int64,1}:\n 3\n 5\n 2"
          },
          "metadata": {}
        }
      ],
      "execution_count": 20,
      "metadata": {
        "execution": {
          "iopub.status.busy": "2021-05-26T21:08:41.131Z",
          "iopub.execute_input": "2021-05-26T21:08:41.142Z",
          "iopub.status.idle": "2021-05-26T21:08:41.162Z"
        }
      }
    },
    {
      "cell_type": "code",
      "source": [
        "sort(v)"
      ],
      "outputs": [
        {
          "output_type": "execute_result",
          "execution_count": 23,
          "data": {
            "text/plain": "3-element Array{Int64,1}:\n 2\n 3\n 5"
          },
          "metadata": {}
        }
      ],
      "execution_count": 23,
      "metadata": {
        "execution": {
          "iopub.status.busy": "2021-05-26T21:09:10.380Z",
          "iopub.execute_input": "2021-05-26T21:09:10.393Z",
          "iopub.status.idle": "2021-05-26T21:09:10.421Z"
        }
      }
    },
    {
      "cell_type": "code",
      "source": [
        "v"
      ],
      "outputs": [
        {
          "output_type": "execute_result",
          "execution_count": 24,
          "data": {
            "text/plain": "3-element Array{Int64,1}:\n 3\n 5\n 2"
          },
          "metadata": {}
        }
      ],
      "execution_count": 24,
      "metadata": {
        "execution": {
          "iopub.status.busy": "2021-05-26T21:09:11.316Z",
          "iopub.execute_input": "2021-05-26T21:09:11.328Z",
          "iopub.status.idle": "2021-05-26T21:09:11.353Z"
        }
      }
    },
    {
      "cell_type": "markdown",
      "source": [
        "`sort(v)` returns a sorted array that contains the same elements as `v`, but `v` is left unchanged. <br><br>\n",
        "\n",
        "On the other hand, when we run `sort!(v)`, the contents of v are sorted within the array `v`."
      ],
      "metadata": {}
    },
    {
      "cell_type": "code",
      "source": [
        "sort!(v)"
      ],
      "outputs": [
        {
          "output_type": "execute_result",
          "execution_count": 25,
          "data": {
            "text/plain": "3-element Array{Int64,1}:\n 2\n 3\n 5"
          },
          "metadata": {}
        }
      ],
      "execution_count": 25,
      "metadata": {
        "execution": {
          "iopub.status.busy": "2021-05-26T21:09:12.913Z",
          "iopub.execute_input": "2021-05-26T21:09:12.926Z",
          "iopub.status.idle": "2021-05-26T21:09:12.947Z"
        }
      }
    },
    {
      "cell_type": "code",
      "source": [
        "v"
      ],
      "outputs": [
        {
          "output_type": "execute_result",
          "execution_count": 26,
          "data": {
            "text/plain": "3-element Array{Int64,1}:\n 2\n 3\n 5"
          },
          "metadata": {}
        }
      ],
      "execution_count": 26,
      "metadata": {
        "execution": {
          "iopub.status.busy": "2021-05-26T21:09:14.155Z",
          "iopub.execute_input": "2021-05-26T21:09:14.166Z",
          "iopub.status.idle": "2021-05-26T21:09:14.189Z"
        }
      }
    },
    {
      "cell_type": "markdown",
      "source": [
        "## Some higher order functions\n",
        "\n",
        "### map\n",
        "\n",
        "`map` is a \"higher-order\" function in Julia that *takes a function* as one of its input arguments. \n",
        "`map` then applies that function to every element of the data structure you pass it. For example, executing\n",
        "\n",
        "```julia\n",
        "map(f, [1, 2, 3])\n",
        "```\n",
        "will give you an output array where the function `f` has been applied to all elements of `[1, 2, 3]`\n",
        "```julia\n",
        "[f(1), f(2), f(3)]\n",
        "```"
      ],
      "metadata": {}
    },
    {
      "cell_type": "code",
      "source": [
        "map(f, [1, 2, 3])"
      ],
      "outputs": [
        {
          "output_type": "execute_result",
          "execution_count": 27,
          "data": {
            "text/plain": "3-element Array{Int64,1}:\n 1\n 4\n 9"
          },
          "metadata": {}
        }
      ],
      "execution_count": 27,
      "metadata": {
        "execution": {
          "iopub.status.busy": "2021-05-26T21:10:01.049Z",
          "iopub.execute_input": "2021-05-26T21:10:01.062Z",
          "iopub.status.idle": "2021-05-26T21:10:01.085Z"
        }
      }
    },
    {
      "cell_type": "markdown",
      "source": [
        "Here we've squared all the elements of the vector `[1, 2, 3]`, rather than squaring the vector `[1, 2, 3]`.\n",
        "\n",
        "To do this, we could have passed to `map` an anonymous function rather than a named function, such as"
      ],
      "metadata": {}
    },
    {
      "cell_type": "code",
      "source": [
        "x -> x^3"
      ],
      "outputs": [
        {
          "output_type": "execute_result",
          "execution_count": 28,
          "data": {
            "text/plain": "#7 (generic function with 1 method)"
          },
          "metadata": {}
        }
      ],
      "execution_count": 28,
      "metadata": {
        "execution": {
          "iopub.status.busy": "2021-05-26T21:10:02.373Z",
          "iopub.execute_input": "2021-05-26T21:10:02.386Z",
          "iopub.status.idle": "2021-05-26T21:10:02.430Z"
        }
      }
    },
    {
      "cell_type": "markdown",
      "source": [
        "via"
      ],
      "metadata": {}
    },
    {
      "cell_type": "code",
      "source": [
        "map(x -> x^3, [1, 2, 3])"
      ],
      "outputs": [
        {
          "output_type": "execute_result",
          "execution_count": 29,
          "data": {
            "text/plain": "3-element Array{Int64,1}:\n  1\n  8\n 27"
          },
          "metadata": {}
        }
      ],
      "execution_count": 29,
      "metadata": {
        "execution": {
          "iopub.status.busy": "2021-05-26T21:10:05.683Z",
          "iopub.execute_input": "2021-05-26T21:10:05.696Z",
          "iopub.status.idle": "2021-05-26T21:10:05.718Z"
        }
      }
    },
    {
      "cell_type": "markdown",
      "source": [
        "and now we've cubed all the elements of `[1, 2, 3]`!"
      ],
      "metadata": {}
    },
    {
      "cell_type": "markdown",
      "source": [
        "### broadcast\n",
        "\n",
        "`broadcast` is another higher-order function like `map`. `broadcast` is a generalization of `map`, so it can do every thing `map` can do and more. The syntax for calling `broadcast` is the same as for calling `map`"
      ],
      "metadata": {}
    },
    {
      "cell_type": "code",
      "source": [
        "broadcast(f, [1, 2, 3])"
      ],
      "outputs": [
        {
          "output_type": "execute_result",
          "execution_count": 30,
          "data": {
            "text/plain": "3-element Array{Int64,1}:\n 1\n 4\n 9"
          },
          "metadata": {}
        }
      ],
      "execution_count": 30,
      "metadata": {
        "execution": {
          "iopub.status.busy": "2021-05-26T21:10:10.365Z",
          "iopub.execute_input": "2021-05-26T21:10:10.377Z",
          "iopub.status.idle": "2021-05-26T21:10:10.402Z"
        }
      }
    },
    {
      "cell_type": "markdown",
      "source": [
        "and again, we've applied `f` (squared) to all the elements of `[1, 2, 3]` - this time by \"broadcasting\" `f`!\n",
        "\n",
        "Some syntactic sugar for calling `broadcast` is to place a `.` between the name of the function you want to `broadcast` and its input arguments. For example,\n",
        "\n",
        "```julia\n",
        "broadcast(f, [1, 2, 3])\n",
        "```\n",
        "is the same as\n",
        "```julia\n",
        "f.([1, 2, 3])\n",
        "```"
      ],
      "metadata": {}
    },
    {
      "cell_type": "code",
      "source": [
        "f.([1, 2, 3])"
      ],
      "outputs": [
        {
          "output_type": "execute_result",
          "execution_count": 31,
          "data": {
            "text/plain": "3-element Array{Int64,1}:\n 1\n 4\n 9"
          },
          "metadata": {}
        }
      ],
      "execution_count": 31,
      "metadata": {
        "execution": {
          "iopub.status.busy": "2021-05-26T21:11:14.618Z",
          "iopub.execute_input": "2021-05-26T21:11:14.632Z",
          "iopub.status.idle": "2021-05-26T21:11:14.660Z"
        }
      }
    },
    {
      "cell_type": "code",
      "source": [
        "f([1, 2, 3])"
      ],
      "outputs": [
        {
          "output_type": "error",
          "ename": "LoadError",
          "evalue": "\u001b[91mMethodError: no method matching ^(::Array{Int64,1}, ::Int64)\u001b[39m\n\u001b[91m\u001b[0mClosest candidates are:\u001b[39m\n\u001b[91m\u001b[0m  ^(\u001b[91m::Missing\u001b[39m, ::Integer) at missing.jl:155\u001b[39m\n\u001b[91m\u001b[0m  ^(\u001b[91m::Missing\u001b[39m, ::Number) at missing.jl:115\u001b[39m\n\u001b[91m\u001b[0m  ^(\u001b[91m::BigInt\u001b[39m, ::Integer) at gmp.jl:602\u001b[39m\n\u001b[91m\u001b[0m  ...\u001b[39m",
          "traceback": [
            "\u001b[91mMethodError: no method matching ^(::Array{Int64,1}, ::Int64)\u001b[39m\n\u001b[91m\u001b[0mClosest candidates are:\u001b[39m\n\u001b[91m\u001b[0m  ^(\u001b[91m::Missing\u001b[39m, ::Integer) at missing.jl:155\u001b[39m\n\u001b[91m\u001b[0m  ^(\u001b[91m::Missing\u001b[39m, ::Number) at missing.jl:115\u001b[39m\n\u001b[91m\u001b[0m  ^(\u001b[91m::BigInt\u001b[39m, ::Integer) at gmp.jl:602\u001b[39m\n\u001b[91m\u001b[0m  ...\u001b[39m",
            "",
            "Stacktrace:",
            " [1] macro expansion at .\\none:0 [inlined]",
            " [2] literal_pow at .\\none:0 [inlined]",
            " [3] f(::Array{Int64,1}) at .\\In[2]:2",
            " [4] top-level scope at In[34]:1",
            " [5] include_string(::Function, ::Module, ::String, ::String) at .\\loading.jl:1091"
          ]
        }
      ],
      "execution_count": 34,
      "metadata": {
        "collapsed": true,
        "jupyter": {
          "source_hidden": false,
          "outputs_hidden": false
        },
        "nteract": {
          "transient": {
            "deleting": false
          }
        },
        "execution": {
          "iopub.status.busy": "2021-05-26T21:11:48.940Z",
          "iopub.execute_input": "2021-05-26T21:11:48.952Z"
        }
      }
    },
    {
      "cell_type": "markdown",
      "source": [
        "Notice again how different this is from calling \n",
        "```julia\n",
        "f([1, 2, 3])\n",
        "```\n",
        "We can square every element of a vector, but we can't square a vector!"
      ],
      "metadata": {}
    },
    {
      "cell_type": "markdown",
      "source": [
        "To drive home the point, let's look at the difference between\n",
        "\n",
        "```julia\n",
        "f(A)\n",
        "```\n",
        "and\n",
        "```julia\n",
        "f.(A)\n",
        "```\n",
        "for a matrix `A`:"
      ],
      "metadata": {}
    },
    {
      "cell_type": "code",
      "source": [
        "A = [i + 3*j for j in 0:2, i in 1:3]"
      ],
      "outputs": [
        {
          "output_type": "execute_result",
          "execution_count": 32,
          "data": {
            "text/plain": "3×3 Array{Int64,2}:\n 1  2  3\n 4  5  6\n 7  8  9"
          },
          "metadata": {}
        }
      ],
      "execution_count": 32,
      "metadata": {
        "execution": {
          "iopub.status.busy": "2021-05-26T21:11:21.716Z",
          "iopub.execute_input": "2021-05-26T21:11:21.730Z",
          "iopub.status.idle": "2021-05-26T21:11:22.374Z"
        }
      }
    },
    {
      "cell_type": "code",
      "source": [
        "f(A)"
      ],
      "outputs": [
        {
          "output_type": "execute_result",
          "execution_count": 35,
          "data": {
            "text/plain": "3×3 Array{Int64,2}:\n  30   36   42\n  66   81   96\n 102  126  150"
          },
          "metadata": {}
        }
      ],
      "execution_count": 35,
      "metadata": {
        "execution": {
          "iopub.status.busy": "2021-05-26T21:12:04.735Z",
          "iopub.execute_input": "2021-05-26T21:12:04.748Z",
          "iopub.status.idle": "2021-05-26T21:12:04.775Z"
        }
      }
    },
    {
      "cell_type": "markdown",
      "source": [
        "As before we see that for a matrix, `A`,\n",
        "```\n",
        "f(A) = A^2 = A * A\n",
        "``` \n",
        "\n",
        "On the other hand,"
      ],
      "metadata": {}
    },
    {
      "cell_type": "code",
      "source": [
        "B = f.(A)"
      ],
      "outputs": [
        {
          "output_type": "execute_result",
          "execution_count": 36,
          "data": {
            "text/plain": "3×3 Array{Int64,2}:\n  1   4   9\n 16  25  36\n 49  64  81"
          },
          "metadata": {}
        }
      ],
      "execution_count": 36,
      "metadata": {
        "execution": {
          "iopub.status.busy": "2021-05-26T21:12:06.378Z",
          "iopub.execute_input": "2021-05-26T21:12:06.390Z",
          "iopub.status.idle": "2021-05-26T21:12:06.410Z"
        }
      }
    },
    {
      "cell_type": "markdown",
      "source": [
        "contains the squares of all the entries of `A`.\n",
        "\n",
        "This dot syntax for broadcasting allows us to write relatively complex compound elementwise expressions in a way that looks natural/closer to mathematical notation. For example, we can write"
      ],
      "metadata": {
        "collapsed": true
      }
    },
    {
      "cell_type": "code",
      "source": [
        "A .+ 2 .* f.(A) ./ A"
      ],
      "outputs": [
        {
          "output_type": "execute_result",
          "execution_count": 37,
          "data": {
            "text/plain": "3×3 Array{Float64,2}:\n  3.0   6.0   9.0\n 12.0  15.0  18.0\n 21.0  24.0  27.0"
          },
          "metadata": {}
        }
      ],
      "execution_count": 37,
      "metadata": {
        "execution": {
          "iopub.status.busy": "2021-05-26T21:12:24.764Z",
          "iopub.execute_input": "2021-05-26T21:12:24.778Z",
          "iopub.status.idle": "2021-05-26T21:12:24.854Z"
        }
      }
    },
    {
      "cell_type": "markdown",
      "source": [
        "instead of"
      ],
      "metadata": {}
    },
    {
      "cell_type": "code",
      "source": [
        "broadcast(x -> x + 2 * f(x) / x, A)"
      ],
      "outputs": [
        {
          "output_type": "execute_result",
          "execution_count": 38,
          "data": {
            "text/plain": "3×3 Array{Float64,2}:\n  3.0   6.0   9.0\n 12.0  15.0  18.0\n 21.0  24.0  27.0"
          },
          "metadata": {}
        }
      ],
      "execution_count": 38,
      "metadata": {
        "execution": {
          "iopub.status.busy": "2021-05-26T21:12:27.153Z",
          "iopub.execute_input": "2021-05-26T21:12:27.163Z",
          "iopub.status.idle": "2021-05-26T21:12:27.188Z"
        }
      }
    },
    {
      "cell_type": "markdown",
      "source": [
        "and the two will perform exactly the same."
      ],
      "metadata": {}
    },
    {
      "cell_type": "markdown",
      "source": [
        "### Exercises\n",
        "\n",
        "#### 6.1 \n",
        "Write a function `add_one` that adds 1 to its input."
      ],
      "metadata": {
        "collapsed": true
      }
    },
    {
      "cell_type": "code",
      "source": [
        "add_one = input -> input+= 1"
      ],
      "outputs": [
        {
          "output_type": "execute_result",
          "execution_count": 55,
          "data": {
            "text/plain": "#18 (generic function with 1 method)"
          },
          "metadata": {}
        }
      ],
      "execution_count": 55,
      "metadata": {
        "execution": {
          "iopub.status.busy": "2021-05-26T21:32:35.773Z",
          "iopub.execute_input": "2021-05-26T21:32:35.787Z",
          "iopub.status.idle": "2021-05-26T21:32:35.838Z"
        }
      }
    },
    {
      "cell_type": "code",
      "source": [
        "@assert add_one(1) == 2"
      ],
      "outputs": [],
      "execution_count": 56,
      "metadata": {
        "deletable": false,
        "editable": false,
        "hide_input": true,
        "nbgrader": {
          "checksum": "253b17dc2f3d3a58042fbc36042a0fd5",
          "grade": true,
          "grade_id": "cell-5119b9e9623c1cb7",
          "locked": true,
          "points": 1,
          "schema_version": 1,
          "solution": false
        },
        "execution": {
          "iopub.status.busy": "2021-05-26T21:32:37.432Z",
          "iopub.execute_input": "2021-05-26T21:32:37.442Z",
          "iopub.status.idle": "2021-05-26T21:32:37.458Z"
        }
      }
    },
    {
      "cell_type": "code",
      "source": [
        "@assert add_one(11) == 12"
      ],
      "outputs": [],
      "execution_count": 57,
      "metadata": {
        "deletable": false,
        "editable": false,
        "hide_input": true,
        "nbgrader": {
          "checksum": "4e05440e19cd3606df11186d41d562bf",
          "grade": true,
          "grade_id": "cell-50f83d27187a2064",
          "locked": true,
          "points": 1,
          "schema_version": 1,
          "solution": false
        },
        "execution": {
          "iopub.status.busy": "2021-05-26T21:32:38.060Z",
          "iopub.execute_input": "2021-05-26T21:32:38.070Z",
          "iopub.status.idle": "2021-05-26T21:32:38.085Z"
        }
      }
    },
    {
      "cell_type": "markdown",
      "source": [
        "#### 6.2 \n",
        "Use `map` or `broadcast` to increment every element of matrix `A` by `1` and assign it to a variable `A1`."
      ],
      "metadata": {}
    },
    {
      "cell_type": "code",
      "source": [
        "A1 = A .+ 1"
      ],
      "outputs": [
        {
          "output_type": "execute_result",
          "execution_count": 58,
          "data": {
            "text/plain": "3×3 Array{Int64,2}:\n 2  3   4\n 5  6   7\n 8  9  10"
          },
          "metadata": {}
        }
      ],
      "execution_count": 58,
      "metadata": {
        "execution": {
          "iopub.status.busy": "2021-05-26T21:32:53.959Z",
          "iopub.execute_input": "2021-05-26T21:32:53.972Z",
          "iopub.status.idle": "2021-05-26T21:32:54.010Z"
        }
      }
    },
    {
      "cell_type": "code",
      "source": [
        "@assert A1 == [2 3 4; 5 6 7; 8 9 10]"
      ],
      "outputs": [],
      "execution_count": 59,
      "metadata": {
        "execution": {
          "iopub.status.busy": "2021-05-26T21:32:55.390Z",
          "iopub.execute_input": "2021-05-26T21:32:55.402Z",
          "iopub.status.idle": "2021-05-26T21:32:55.419Z"
        }
      }
    },
    {
      "cell_type": "markdown",
      "source": [
        "#### 6.3 \n",
        "Use the broadcast dot syntax to increment every element of matrix `A1` by `1` and store it in variable `A2`"
      ],
      "metadata": {
        "collapsed": true
      }
    },
    {
      "cell_type": "code",
      "source": [
        "A2 = A1 .+ 1"
      ],
      "outputs": [
        {
          "output_type": "execute_result",
          "execution_count": 60,
          "data": {
            "text/plain": "3×3 Array{Int64,2}:\n 3   4   5\n 6   7   8\n 9  10  11"
          },
          "metadata": {}
        }
      ],
      "execution_count": 60,
      "metadata": {
        "execution": {
          "iopub.status.busy": "2021-05-26T21:33:11.720Z",
          "iopub.execute_input": "2021-05-26T21:33:11.733Z",
          "iopub.status.idle": "2021-05-26T21:33:11.756Z"
        }
      }
    },
    {
      "cell_type": "code",
      "source": [
        "@assert A2 == [3 4 5; 6 7 8; 9 10 11]"
      ],
      "outputs": [],
      "execution_count": 61,
      "metadata": {
        "deletable": false,
        "editable": false,
        "hide_input": true,
        "nbgrader": {
          "checksum": "3e3d797962df904deed0e7ee7782b69a",
          "grade": true,
          "grade_id": "cell-f3bd5479679a8fe1",
          "locked": true,
          "points": 0,
          "schema_version": 1,
          "solution": false
        },
        "execution": {
          "iopub.status.busy": "2021-05-26T21:33:13.220Z",
          "iopub.execute_input": "2021-05-26T21:33:13.233Z",
          "iopub.status.idle": "2021-05-26T21:33:13.252Z"
        }
      }
    },
    {
      "cell_type": "markdown",
      "source": [
        "Please click on `Validate` on the top, once you are done with the exercises."
      ],
      "metadata": {}
    }
  ],
  "metadata": {
    "kernelspec": {
      "display_name": "Julia 1.0.0",
      "language": "julia",
      "name": "julia-1.0"
    },
    "language_info": {
      "file_extension": ".jl",
      "name": "julia",
      "mimetype": "application/julia",
      "version": "1.5.4"
    },
    "nteract": {
      "version": "0.28.0"
    }
  },
  "nbformat": 4,
  "nbformat_minor": 2
}